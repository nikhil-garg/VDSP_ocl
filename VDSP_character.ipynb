{
 "cells": [
  {
   "cell_type": "code",
   "execution_count": 1,
   "metadata": {},
   "outputs": [],
   "source": [
    "import nengo\n",
    "import numpy as np\n",
    "from numpy import random\n",
    "import matplotlib.pyplot as plt\n",
    "import matplotlib.cm as cm\n",
    "import os\n",
    "from nengo.dists import Choice\n",
    "from datetime import datetime\n",
    "import pickle\n",
    "from nengo.utils.matplotlib import rasterplot\n",
    "import time\n",
    "from utilis import *\n",
    "import random\n",
    "import logging"
   ]
  },
  {
   "cell_type": "code",
   "execution_count": 2,
   "metadata": {},
   "outputs": [
    {
     "data": {
      "application/vdom.v1+json": {
       "attributes": {},
       "tagName": "div"
      },
      "text/html": [
       "\n",
       "                <script>\n",
       "                    if (Jupyter.version.split(\".\")[0] < 5) {\n",
       "                        var pb = document.getElementById(\"d69a999c-bb00-4226-9d98-48bd18679853\");\n",
       "                        var text = document.createTextNode(\n",
       "                            \"HMTL progress bar requires Jupyter Notebook >= \" +\n",
       "                            \"5.0 or Jupyter Lab. Alternatively, you can use \" +\n",
       "                            \"TerminalProgressBar().\");\n",
       "                        pb.parentNode.insertBefore(text, pb);\n",
       "                    }\n",
       "                </script>\n",
       "                <div id=\"d69a999c-bb00-4226-9d98-48bd18679853\" style=\"\n",
       "                    width: 100%;\n",
       "                    border: 1px solid #cfcfcf;\n",
       "                    border-radius: 4px;\n",
       "                    text-align: center;\n",
       "                    position: relative;\">\n",
       "                  <div class=\"pb-text\" style=\"\n",
       "                      position: absolute;\n",
       "                      width: 100%;\">\n",
       "                    0%\n",
       "                  </div>\n",
       "                  <div class=\"pb-fill\" style=\"\n",
       "                      background-color: #bdd2e6;\n",
       "                      width: 0%;\">\n",
       "                    <style type=\"text/css\" scoped=\"scoped\">\n",
       "                        @keyframes pb-fill-anim {\n",
       "                            0% { background-position: 0 0; }\n",
       "                            100% { background-position: 100px 0; }\n",
       "                        }\n",
       "                    </style>\n",
       "                    &nbsp;\n",
       "                  </div>\n",
       "                </div>"
      ],
      "text/plain": [
       "HtmlProgressBar cannot be displayed. Please use the TerminalProgressBar. It can be enabled with `nengo.rc['progress']['progress_bar'] = 'nengo.utils.progress.TerminalProgressBar'`."
      ]
     },
     "metadata": {},
     "output_type": "display_data"
    },
    {
     "data": {
      "application/vdom.v1+json": {
       "attributes": {
        "id": "fe5a1b93-5cfa-4e71-a3a7-4a0d17ec9c88",
        "style": {
         "border": "1px solid #cfcfcf",
         "borderRadius": "4px",
         "boxSizing": "border-box",
         "position": "relative",
         "textAlign": "center",
         "width": "100%"
        }
       },
       "children": [
        {
         "attributes": {
          "class": "pb-text",
          "style": {
           "position": "absolute",
           "width": "100%"
          }
         },
         "children": [
          "Build finished in 0:00:01."
         ],
         "tagName": "div"
        },
        {
         "attributes": {
          "class": "pb-fill",
          "style": {
           "animation": "none",
           "backgroundColor": "#bdd2e6",
           "backgroundImage": "none",
           "backgroundSize": "100px 100%",
           "width": "100%"
          }
         },
         "children": [
          {
           "attributes": {
            "scoped": "scoped",
            "type": "text/css"
           },
           "children": [
            "\n                        @keyframes pb-fill-anim {\n                            0% { background-position: 0 0; }\n                            100% { background-position: 100px 0; }\n                        }}"
           ],
           "tagName": "style"
          },
          " "
         ],
         "tagName": "div"
        }
       ],
       "tagName": "div"
      },
      "text/html": [
       "<script>\n",
       "              (function () {\n",
       "                  var root = document.getElementById('d69a999c-bb00-4226-9d98-48bd18679853');\n",
       "                  var text = root.getElementsByClassName('pb-text')[0];\n",
       "                  var fill = root.getElementsByClassName('pb-fill')[0];\n",
       "\n",
       "                  text.innerHTML = 'Build finished in 0:00:01.';\n",
       "                  \n",
       "            fill.style.width = '100%';\n",
       "            fill.style.animation = 'pb-fill-anim 2s linear infinite';\n",
       "            fill.style.backgroundSize = '100px 100%';\n",
       "            fill.style.backgroundImage = 'repeating-linear-gradient(' +\n",
       "                '90deg, #bdd2e6, #edf2f8 40%, #bdd2e6 80%, #bdd2e6)';\n",
       "        \n",
       "                  \n",
       "                fill.style.animation = 'none';\n",
       "                fill.style.backgroundImage = 'none';\n",
       "            \n",
       "              })();\n",
       "        </script>"
      ]
     },
     "metadata": {},
     "output_type": "display_data"
    },
    {
     "data": {
      "application/vdom.v1+json": {
       "attributes": {},
       "tagName": "div"
      },
      "text/html": [
       "\n",
       "                <script>\n",
       "                    if (Jupyter.version.split(\".\")[0] < 5) {\n",
       "                        var pb = document.getElementById(\"64854d17-452c-4648-b828-2a777c27ea96\");\n",
       "                        var text = document.createTextNode(\n",
       "                            \"HMTL progress bar requires Jupyter Notebook >= \" +\n",
       "                            \"5.0 or Jupyter Lab. Alternatively, you can use \" +\n",
       "                            \"TerminalProgressBar().\");\n",
       "                        pb.parentNode.insertBefore(text, pb);\n",
       "                    }\n",
       "                </script>\n",
       "                <div id=\"64854d17-452c-4648-b828-2a777c27ea96\" style=\"\n",
       "                    width: 100%;\n",
       "                    border: 1px solid #cfcfcf;\n",
       "                    border-radius: 4px;\n",
       "                    text-align: center;\n",
       "                    position: relative;\">\n",
       "                  <div class=\"pb-text\" style=\"\n",
       "                      position: absolute;\n",
       "                      width: 100%;\">\n",
       "                    0%\n",
       "                  </div>\n",
       "                  <div class=\"pb-fill\" style=\"\n",
       "                      background-color: #bdd2e6;\n",
       "                      width: 0%;\">\n",
       "                    <style type=\"text/css\" scoped=\"scoped\">\n",
       "                        @keyframes pb-fill-anim {\n",
       "                            0% { background-position: 0 0; }\n",
       "                            100% { background-position: 100px 0; }\n",
       "                        }\n",
       "                    </style>\n",
       "                    &nbsp;\n",
       "                  </div>\n",
       "                </div>"
      ],
      "text/plain": [
       "HtmlProgressBar cannot be displayed. Please use the TerminalProgressBar. It can be enabled with `nengo.rc['progress']['progress_bar'] = 'nengo.utils.progress.TerminalProgressBar'`."
      ]
     },
     "metadata": {},
     "output_type": "display_data"
    },
    {
     "data": {
      "application/vdom.v1+json": {
       "attributes": {
        "id": "a5306f91-7fbb-4f61-80bc-9d32c8a1af9e",
        "style": {
         "border": "1px solid #cfcfcf",
         "borderRadius": "4px",
         "boxSizing": "border-box",
         "position": "relative",
         "textAlign": "center",
         "width": "100%"
        }
       },
       "children": [
        {
         "attributes": {
          "class": "pb-text",
          "style": {
           "position": "absolute",
           "width": "100%"
          }
         },
         "children": [
          "Simulation finished in 0:12:36."
         ],
         "tagName": "div"
        },
        {
         "attributes": {
          "class": "pb-fill",
          "style": {
           "animation": "none",
           "backgroundColor": "#bdd2e6",
           "backgroundImage": "none",
           "transition": "width 0.1s linear",
           "width": "100%"
          }
         },
         "children": [
          {
           "attributes": {
            "scoped": "scoped",
            "type": "text/css"
           },
           "children": [
            "\n                        @keyframes pb-fill-anim {\n                            0% { background-position: 0 0; }\n                            100% { background-position: 100px 0; }\n                        }}"
           ],
           "tagName": "style"
          },
          " "
         ],
         "tagName": "div"
        }
       ],
       "tagName": "div"
      },
      "text/html": [
       "<script>\n",
       "              (function () {\n",
       "                  var root = document.getElementById('64854d17-452c-4648-b828-2a777c27ea96');\n",
       "                  var text = root.getElementsByClassName('pb-text')[0];\n",
       "                  var fill = root.getElementsByClassName('pb-fill')[0];\n",
       "\n",
       "                  text.innerHTML = 'Simulation finished in 0:12:36.';\n",
       "                  \n",
       "            if (100.0 > 0.) {\n",
       "                fill.style.transition = 'width 0.1s linear';\n",
       "            } else {\n",
       "                fill.style.transition = 'none';\n",
       "            }\n",
       "\n",
       "            fill.style.width = '100.0%';\n",
       "            fill.style.animation = 'none';\n",
       "            fill.style.backgroundImage = 'none'\n",
       "        \n",
       "                  \n",
       "                fill.style.animation = 'none';\n",
       "                fill.style.backgroundImage = 'none';\n",
       "            \n",
       "              })();\n",
       "        </script>"
      ]
     },
     "metadata": {},
     "output_type": "display_data"
    }
   ],
   "source": [
    "sim_time = 1200\n",
    "vprog = 0 \n",
    "for freq in [100]:\n",
    " \n",
    "    for tau_rc in [0.2]:\n",
    "        \n",
    "        experiment_name = 'freq ' + str(freq)+ ' Hz & tau_rc_post  '+str(tau_rc*1000)+'ms'\n",
    "        \n",
    "        model = nengo.Network()\n",
    "        with model:\n",
    "\n",
    "        \n",
    "            pre = nengo.Ensemble(n_neurons=1, dimensions=1, encoders=[[1]], gain=[2], bias=[0], neuron_type=MyLIF_in(tau_rc=tau_rc,min_voltage=-1))\n",
    "\n",
    "            post = nengo.Ensemble(n_neurons=1, dimensions=1, encoders=[[1]], max_rates=[freq], intercepts=[0],\n",
    "                                  neuron_type=nengo.StochasticSpiking(nengo.LIFRate(tau_ref=1/1000)))\n",
    "\n",
    "            stim_pre = nengo.Node(lambda t: 1)\n",
    "            stim_post = nengo.Node(lambda t: 1)\n",
    "\n",
    "            nengo.Connection(stim_pre, pre, synapse=None)\n",
    "            nengo.Connection(stim_post, post, synapse=None)\n",
    "    \n",
    "            w = nengo.Node(CustomRule_post_v2_history(winit_min=0, winit_max=1,sample_distance=1,vprog=vprog,lr=100), size_in=1, size_out=1 )\n",
    "            nengo.Connection(pre.neurons, w, synapse=None)\n",
    "            nengo.Connection(w, post.neurons, transform=[0],synapse=None) #Spikes not transmitted\n",
    "\n",
    "            p_stim_pre = nengo.Probe(stim_pre)\n",
    "            p_stim_post = nengo.Probe(stim_post)\n",
    "            p_pre = nengo.Probe(pre.neurons)\n",
    "            p_post = nengo.Probe(post.neurons)\n",
    "            p_pre_v = nengo.Probe(pre.neurons, 'voltage')\n",
    "\n",
    "            weights = w.output.history\n",
    "            dw = w.output.update_history\n",
    "\n",
    "        sim = nengo.Simulator(model)\n",
    "        \n",
    "        w.output.set_signal_vmem(sim.signals[sim.model.sig[pre.neurons][\"voltage\"]])\n",
    "        w.output.set_signal_out(sim.signals[sim.model.sig[post.neurons][\"out\"]])\n",
    "\n",
    "        sim.run(sim_time)  \n",
    "\n",
    "        pre_data = (sim.data[p_pre]/1000)[:,0]\n",
    "        post_data = (sim.data[p_post]/1000)[:,0]\n",
    "        pre_voltage_data = (sim.data[p_pre_v])[:,0]\n",
    "        t_data = sim.trange()\n",
    "        w_data = np.array(weights)[:,0,0]\n",
    "        # w_data = np.clip(w_data,0,1)\n",
    "\n",
    "        dw_data = np.array(dw)[:,0,0]/1000 #For 20ns\n",
    "        \n",
    "        \n",
    "        pre_spike_times = t_data[np.where(pre_data == 1)]\n",
    "        post_spike_times = t_data[np.where(post_data == 1)]\n",
    "\n",
    "        dw_at_post = dw_data[np.where(post_data == 1)]\n",
    "        dw_at_post = np.clip(dw_at_post,-1,1)\n",
    "        w_at_post = w_data[np.where(post_data == 1)]\n",
    "        w_at_post = w_at_post - dw_at_post\n",
    "        w_at_post = np.clip(w_at_post,0,1)\n",
    "\n",
    "        vmem_at_post = pre_voltage_data[np.where(post_data == 1)]\n",
    "\n",
    "\n",
    "        tau_pre_nearest = np.ones((len(post_spike_times)))\n",
    "        for i in range(len(post_spike_times)):\n",
    "            tau_post = post_spike_times[i]\n",
    "            neurest_index = (np.abs(pre_spike_times-tau_post)).argmin()\n",
    "            tau_pre = pre_spike_times[neurest_index]\n",
    "            tau_pre_nearest[i]=tau_pre\n",
    "        dtau = post_spike_times - tau_pre_nearest\n",
    "\n",
    "        \n",
    "        \n",
    "        fig_dir = os.getcwd()\n",
    "        \n",
    "        \n",
    "        fig = plt.figure(figsize=(7,2))\n",
    "\n",
    "        ax1 = fig.add_subplot(1,3,1)\n",
    "\n",
    "        plt.scatter(dtau*1000, dw_at_post,c=w_at_post,s=1)\n",
    "#         plt.title(experiment_name)\n",
    "        cbar = plt.colorbar()\n",
    "        cbar.set_label('W')\n",
    "        ax1.set_xlabel('tau post-tau pre (ms)')\n",
    "        ax1.set_ylabel('dW')\n",
    "        \n",
    "        \n",
    "        ax2 = fig.add_subplot(1,3,2)\n",
    "\n",
    "        ax2.scatter(vmem_at_post, dw_at_post,c=w_at_post, s=1)\n",
    "        cbar = plt.colorbar()\n",
    "        cbar.set_label('W')\n",
    "        ax2.set_xlabel('Vmem(V)')\n",
    "        ax2.set_ylabel('dW')\n",
    "        \n",
    "        ax3 = fig.add_subplot(1,3,3)\n",
    "\n",
    "        ax3.scatter(vmem_at_post, dtau*1000, s=1)\n",
    "        ax3.set_xlabel('Vmem(V)')\n",
    "        ax3.set_ylabel('tau post-tau pre (ms)')\n",
    "        \n",
    "        fig.tight_layout()\n",
    "        fig.savefig(fig_dir+ '/vdsp_curve '+experiment_name + '.pdf',bbox_inches='tight',dpi=500)\n",
    "        plt.close()"
   ]
  },
  {
   "cell_type": "code",
   "execution_count": 7,
   "metadata": {},
   "outputs": [
    {
     "data": {
      "image/png": "[encoded data removed]",
      "text/plain": [
       "<Figure size 504x144 with 5 Axes>"
      ]
     },
     "metadata": {
      "needs_background": "light"
     },
     "output_type": "display_data"
    }
   ],
   "source": [
    "fig = plt.figure(figsize=(7,2))\n",
    "\n",
    "ax1 = fig.add_subplot(1,3,1)\n",
    "# ax1.title.set_text('a')\n",
    "plt.scatter(dtau*1000, dw_at_post,c=w_at_post,s=1)\n",
    "#         plt.title(experiment_name)\n",
    "cbar = plt.colorbar()\n",
    "cbar.set_label('W')\n",
    "ax1.set_xlabel('tau post-tau pre (ms)')\n",
    "ax1.set_ylabel('dW')\n",
    "\n",
    "\n",
    "ax2 = fig.add_subplot(1,3,2)\n",
    "# ax2.title.set_text('b')\n",
    "\n",
    "ax2.scatter(vmem_at_post, dw_at_post,c=w_at_post, s=1)\n",
    "cbar = plt.colorbar()\n",
    "cbar.set_label('W')\n",
    "ax2.set_xlabel('Vmem(V)')\n",
    "ax2.set_ylabel('dW')\n",
    "\n",
    "ax3 = fig.add_subplot(1,3,3)\n",
    "# ax3.title.set_text('c')\n",
    "\n",
    "ax3.scatter(vmem_at_post, dtau*1000, s=1)\n",
    "ax3.set_xlabel('Vmem(V)')\n",
    "ax3.set_ylabel('tau post-tau pre (ms)')\n",
    "\n",
    "fig.tight_layout()\n",
    "fig.savefig(fig_dir+ '/vdsp_curve '+experiment_name + '.svg',bbox_inches='tight')\n",
    "# plt.close()"
   ]
  },
  {
   "cell_type": "code",
   "execution_count": 4,
   "metadata": {},
   "outputs": [],
   "source": [
    "ax1.title.set_text('a')\n"
   ]
  },
  {
   "cell_type": "code",
   "execution_count": 12,
   "metadata": {},
   "outputs": [
    {
     "data": {
      "application/vdom.v1+json": {
       "attributes": {},
       "tagName": "div"
      },
      "text/html": [
       "\n",
       "                <script>\n",
       "                    if (Jupyter.version.split(\".\")[0] < 5) {\n",
       "                        var pb = document.getElementById(\"0106ece2-2225-439d-9b7c-b9c34b938533\");\n",
       "                        var text = document.createTextNode(\n",
       "                            \"HMTL progress bar requires Jupyter Notebook >= \" +\n",
       "                            \"5.0 or Jupyter Lab. Alternatively, you can use \" +\n",
       "                            \"TerminalProgressBar().\");\n",
       "                        pb.parentNode.insertBefore(text, pb);\n",
       "                    }\n",
       "                </script>\n",
       "                <div id=\"0106ece2-2225-439d-9b7c-b9c34b938533\" style=\"\n",
       "                    width: 100%;\n",
       "                    border: 1px solid #cfcfcf;\n",
       "                    border-radius: 4px;\n",
       "                    text-align: center;\n",
       "                    position: relative;\">\n",
       "                  <div class=\"pb-text\" style=\"\n",
       "                      position: absolute;\n",
       "                      width: 100%;\">\n",
       "                    0%\n",
       "                  </div>\n",
       "                  <div class=\"pb-fill\" style=\"\n",
       "                      background-color: #bdd2e6;\n",
       "                      width: 0%;\">\n",
       "                    <style type=\"text/css\" scoped=\"scoped\">\n",
       "                        @keyframes pb-fill-anim {\n",
       "                            0% { background-position: 0 0; }\n",
       "                            100% { background-position: 100px 0; }\n",
       "                        }\n",
       "                    </style>\n",
       "                    &nbsp;\n",
       "                  </div>\n",
       "                </div>"
      ],
      "text/plain": [
       "HtmlProgressBar cannot be displayed. Please use the TerminalProgressBar. It can be enabled with `nengo.rc['progress']['progress_bar'] = 'nengo.utils.progress.TerminalProgressBar'`."
      ]
     },
     "metadata": {},
     "output_type": "display_data"
    },
    {
     "data": {
      "application/vdom.v1+json": {
       "attributes": {
        "id": "da65169f-d36c-4f46-a79e-bc887303a90c",
        "style": {
         "border": "1px solid #cfcfcf",
         "borderRadius": "4px",
         "boxSizing": "border-box",
         "position": "relative",
         "textAlign": "center",
         "width": "100%"
        }
       },
       "children": [
        {
         "attributes": {
          "class": "pb-text",
          "style": {
           "position": "absolute",
           "width": "100%"
          }
         },
         "children": [
          "Build finished in 0:00:01."
         ],
         "tagName": "div"
        },
        {
         "attributes": {
          "class": "pb-fill",
          "style": {
           "animation": "none",
           "backgroundColor": "#bdd2e6",
           "backgroundImage": "none",
           "backgroundSize": "100px 100%",
           "width": "100%"
          }
         },
         "children": [
          {
           "attributes": {
            "scoped": "scoped",
            "type": "text/css"
           },
           "children": [
            "\n                        @keyframes pb-fill-anim {\n                            0% { background-position: 0 0; }\n                            100% { background-position: 100px 0; }\n                        }}"
           ],
           "tagName": "style"
          },
          " "
         ],
         "tagName": "div"
        }
       ],
       "tagName": "div"
      },
      "text/html": [
       "<script>\n",
       "              (function () {\n",
       "                  var root = document.getElementById('0106ece2-2225-439d-9b7c-b9c34b938533');\n",
       "                  var text = root.getElementsByClassName('pb-text')[0];\n",
       "                  var fill = root.getElementsByClassName('pb-fill')[0];\n",
       "\n",
       "                  text.innerHTML = 'Build finished in 0:00:01.';\n",
       "                  \n",
       "            fill.style.width = '100%';\n",
       "            fill.style.animation = 'pb-fill-anim 2s linear infinite';\n",
       "            fill.style.backgroundSize = '100px 100%';\n",
       "            fill.style.backgroundImage = 'repeating-linear-gradient(' +\n",
       "                '90deg, #bdd2e6, #edf2f8 40%, #bdd2e6 80%, #bdd2e6)';\n",
       "        \n",
       "                  \n",
       "                fill.style.animation = 'none';\n",
       "                fill.style.backgroundImage = 'none';\n",
       "            \n",
       "              })();\n",
       "        </script>"
      ]
     },
     "metadata": {},
     "output_type": "display_data"
    },
    {
     "data": {
      "application/vdom.v1+json": {
       "attributes": {},
       "tagName": "div"
      },
      "text/html": [
       "\n",
       "                <script>\n",
       "                    if (Jupyter.version.split(\".\")[0] < 5) {\n",
       "                        var pb = document.getElementById(\"e9a143f8-6575-4326-8246-f6cdf425dac9\");\n",
       "                        var text = document.createTextNode(\n",
       "                            \"HMTL progress bar requires Jupyter Notebook >= \" +\n",
       "                            \"5.0 or Jupyter Lab. Alternatively, you can use \" +\n",
       "                            \"TerminalProgressBar().\");\n",
       "                        pb.parentNode.insertBefore(text, pb);\n",
       "                    }\n",
       "                </script>\n",
       "                <div id=\"e9a143f8-6575-4326-8246-f6cdf425dac9\" style=\"\n",
       "                    width: 100%;\n",
       "                    border: 1px solid #cfcfcf;\n",
       "                    border-radius: 4px;\n",
       "                    text-align: center;\n",
       "                    position: relative;\">\n",
       "                  <div class=\"pb-text\" style=\"\n",
       "                      position: absolute;\n",
       "                      width: 100%;\">\n",
       "                    0%\n",
       "                  </div>\n",
       "                  <div class=\"pb-fill\" style=\"\n",
       "                      background-color: #bdd2e6;\n",
       "                      width: 0%;\">\n",
       "                    <style type=\"text/css\" scoped=\"scoped\">\n",
       "                        @keyframes pb-fill-anim {\n",
       "                            0% { background-position: 0 0; }\n",
       "                            100% { background-position: 100px 0; }\n",
       "                        }\n",
       "                    </style>\n",
       "                    &nbsp;\n",
       "                  </div>\n",
       "                </div>"
      ],
      "text/plain": [
       "HtmlProgressBar cannot be displayed. Please use the TerminalProgressBar. It can be enabled with `nengo.rc['progress']['progress_bar'] = 'nengo.utils.progress.TerminalProgressBar'`."
      ]
     },
     "metadata": {},
     "output_type": "display_data"
    },
    {
     "data": {
      "application/vdom.v1+json": {
       "attributes": {
        "id": "a9d79b68-6cd0-48cb-85ab-55814a9bdc82",
        "style": {
         "border": "1px solid #cfcfcf",
         "borderRadius": "4px",
         "boxSizing": "border-box",
         "position": "relative",
         "textAlign": "center",
         "width": "100%"
        }
       },
       "children": [
        {
         "attributes": {
          "class": "pb-text",
          "style": {
           "position": "absolute",
           "width": "100%"
          }
         },
         "children": [
          "Simulation finished in 0:00:09."
         ],
         "tagName": "div"
        },
        {
         "attributes": {
          "class": "pb-fill",
          "style": {
           "animation": "none",
           "backgroundColor": "#bdd2e6",
           "backgroundImage": "none",
           "transition": "width 0.1s linear",
           "width": "100%"
          }
         },
         "children": [
          {
           "attributes": {
            "scoped": "scoped",
            "type": "text/css"
           },
           "children": [
            "\n                        @keyframes pb-fill-anim {\n                            0% { background-position: 0 0; }\n                            100% { background-position: 100px 0; }\n                        }}"
           ],
           "tagName": "style"
          },
          " "
         ],
         "tagName": "div"
        }
       ],
       "tagName": "div"
      },
      "text/html": [
       "<script>\n",
       "              (function () {\n",
       "                  var root = document.getElementById('e9a143f8-6575-4326-8246-f6cdf425dac9');\n",
       "                  var text = root.getElementsByClassName('pb-text')[0];\n",
       "                  var fill = root.getElementsByClassName('pb-fill')[0];\n",
       "\n",
       "                  text.innerHTML = 'Simulation finished in 0:00:09.';\n",
       "                  \n",
       "            if (100.0 > 0.) {\n",
       "                fill.style.transition = 'width 0.1s linear';\n",
       "            } else {\n",
       "                fill.style.transition = 'none';\n",
       "            }\n",
       "\n",
       "            fill.style.width = '100.0%';\n",
       "            fill.style.animation = 'none';\n",
       "            fill.style.backgroundImage = 'none'\n",
       "        \n",
       "                  \n",
       "                fill.style.animation = 'none';\n",
       "                fill.style.backgroundImage = 'none';\n",
       "            \n",
       "              })();\n",
       "        </script>"
      ]
     },
     "metadata": {},
     "output_type": "display_data"
    },
    {
     "data": {
      "image/png": "[encoded data removed]",
      "text/plain": [
       "<Figure size 504x504 with 4 Axes>"
      ]
     },
     "metadata": {
      "needs_background": "light"
     },
     "output_type": "display_data"
    }
   ],
   "source": [
    "wmax = 1\n",
    "winit = 1/2\n",
    "lr = 1\n",
    "model = nengo.Network()\n",
    "with model:\n",
    "\n",
    "    bell = nengo.Ensemble(n_neurons=1, dimensions=1, encoders=[[1]], gain=[3], bias=[0], neuron_type=MyLIF_in(tau_rc=0.1))\n",
    "    food = nengo.Ensemble(n_neurons=1, dimensions=1, encoders=[[1]], gain=[3], bias=[0], neuron_type=MyLIF_in(tau_rc=0.1))\n",
    "    saliva = nengo.Ensemble(n_neurons=1, dimensions=1, encoders=[[1]], gain=[3], bias=[0],neuron_type=MyLIF_in(tau_rc=0.1))\n",
    "\n",
    "    stim_food = nengo.Node(lambda t: 1 if 2<t%10<4 else 0)\n",
    "    stim_bell = nengo.Node(lambda t: 1 if (3<t%10<6 or 1<t%10<2) else 0)\n",
    "\n",
    "    nengo.Connection(stim_food, food, synapse=None)\n",
    "    nengo.Connection(stim_bell, bell, synapse=None)\n",
    "\n",
    "    w = nengo.Node(CustomRule_post_v2_tio2_history(winit_min=winit,winit_max=winit, sample_distance=1, lr=lr,voltage_clip_max=2), size_in=1, size_out=1)  \n",
    "    nengo.Connection(bell.neurons, w, synapse=None)\n",
    "    nengo.Connection(w, saliva.neurons,transform=[wmax], synapse=None)\n",
    "\n",
    "    nengo.Connection(food.neurons, saliva.neurons,transform=[wmax*0.5], synapse=None)\n",
    "\n",
    "    p_bell = nengo.Probe(bell.neurons)\n",
    "    p_food = nengo.Probe(food.neurons)    \n",
    "    p_saliva = nengo.Probe(saliva.neurons)\n",
    "    p_saliva_v = nengo.Probe(saliva.neurons, 'voltage')\n",
    "\n",
    "    weights = w.output.history\n",
    "\n",
    "sim = nengo.Simulator(model)\n",
    "\n",
    "# w.output.set_signal(sim.signals[sim.model.sig[saliva.neurons][\"voltage\"]])\n",
    "w.output.set_signal_vmem(sim.signals[sim.model.sig[bell.neurons][\"voltage\"]])\n",
    "w.output.set_signal_out(sim.signals[sim.model.sig[saliva.neurons][\"out\"]])\n",
    "\n",
    "sim.run(10)  \n",
    "\n",
    "plt.figure(figsize=(7,7))\n",
    "\n",
    "plt.subplot(4, 1, 1)\n",
    "# plt.title('a')\n",
    "\n",
    "plt.plot(sim.trange(), sim.data[p_bell]/500, c='k', label='spikes')\n",
    "plt.ylabel('bell')\n",
    "plt.xlabel(\"Time[s]\")\n",
    "plt.legend()\n",
    "\n",
    "plt.subplot(4, 1, 2)\n",
    "# plt.title('b')\n",
    "plt.plot(sim.trange(), sim.data[p_food]/500, c='k', label='spikes')\n",
    "plt.ylabel('food')\n",
    "plt.xlabel(\"Time[s]\")\n",
    "plt.legend()\n",
    "\n",
    "plt.subplot(4, 1, 3)\n",
    "# plt.title('c')\n",
    "plt.plot(sim.trange(), sim.data[p_saliva]/500, c='k', label='spikes')\n",
    "plt.plot(sim.trange(), sim.data[p_saliva_v], label='voltage')\n",
    "plt.ylabel('saliva')\n",
    "plt.xlabel(\"Time[s]\")\n",
    "plt.legend()\n",
    "\n",
    "plt.subplot(4, 1, 4)\n",
    "# plt.title('d')\n",
    "plt.plot(sim.trange(), np.array(weights)[:,:,0], label='weight_bell')\n",
    "plt.xlabel(\"Time[s]\")\n",
    "plt.ylabel(\"w\")\n",
    "plt.legend()\n",
    "\n",
    "plt.tight_layout()\n",
    "plt.savefig('dog'+'winit'+str(winit)+'wmax'+str(wmax)+'lr'+str(lr)+'.pdf', dpi=400)\n",
    "# plt.close()"
   ]
  },
  {
   "cell_type": "code",
   "execution_count": 5,
   "metadata": {},
   "outputs": [
    {
     "data": {
      "text/plain": [
       "(1, 1, 1)"
      ]
     },
     "execution_count": 5,
     "metadata": {},
     "output_type": "execute_result"
    }
   ],
   "source": [
    "np.array(weights).shape"
   ]
  },
  {
   "cell_type": "code",
   "execution_count": null,
   "metadata": {},
   "outputs": [],
   "source": []
  }
 ],
 "metadata": {
  "kernelspec": {
   "display_name": "Python 3",
   "language": "python",
   "name": "python3"
  },
  "language_info": {
   "codemirror_mode": {
    "name": "ipython",
    "version": 3
   },
   "file_extension": ".py",
   "mimetype": "text/x-python",
   "name": "python",
   "nbconvert_exporter": "python",
   "pygments_lexer": "ipython3",
   "version": "3.8.3"
  }
 },
 "nbformat": 4,
 "nbformat_minor": 4
}
