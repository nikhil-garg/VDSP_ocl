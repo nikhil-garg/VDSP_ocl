{
 "cells": [
  {
   "cell_type": "code",
   "execution_count": 52,
   "metadata": {},
   "outputs": [],
   "source": [
    "import numpy as np\n",
    "import torch\n",
    "import torchvision\n",
    "from torchvision import datasets, transforms"
   ]
  },
  {
   "cell_type": "code",
   "execution_count": 53,
   "metadata": {},
   "outputs": [],
   "source": [
    "trainset = datasets.QMNIST(root='./data', train=True, download=True, transform=transforms.ToTensor())\n",
    "testset = datasets.QMNIST(root='./data', train=False, download=True, transform=transforms.ToTensor())\n",
    "trainloader = torch.utils.data.DataLoader(trainset, batch_size=60000, shuffle=True)\n",
    "testloader = torch.utils.data.DataLoader(testset, batch_size=60000, shuffle=True)\n",
    "dataiter_train = iter(trainloader) # creating a iterator\n",
    "images_train, labels_train = dataiter_train.next()\n",
    "dataiter_test = iter(testloader) # creating a iterator\n",
    "images_test, labels_test = dataiter_test.next()"
   ]
  },
  {
   "cell_type": "code",
   "execution_count": 54,
   "metadata": {},
   "outputs": [],
   "source": [
    "images_test *=256\n",
    "images_train *=256"
   ]
  },
  {
   "cell_type": "code",
   "execution_count": 60,
   "metadata": {},
   "outputs": [],
   "source": [
    "images_test = np.array(images_test)\n",
    "images_train = np.array(images_train)\n",
    "images_train = images_train[:,0,:,:]\n",
    "images_test = images_test[:,0,:,:]"
   ]
  },
  {
   "cell_type": "code",
   "execution_count": 61,
   "metadata": {},
   "outputs": [],
   "source": [
    "# images_test = images_test.astype(int)\n",
    "# images_train = images_train.astype(int)"
   ]
  },
  {
   "cell_type": "code",
   "execution_count": 62,
   "metadata": {},
   "outputs": [],
   "source": [
    "np.savez_compressed('qmnist.npz',image_train_filtered=images_train,label_train_filtered=labels_train,image_test_filtered=images_test,label_test_filtered=labels_test)"
   ]
  },
  {
   "cell_type": "code",
   "execution_count": 63,
   "metadata": {},
   "outputs": [],
   "source": [
    "data = np.load('qmnist.npz', allow_pickle=True)\n",
    "image_test_filtered = data['image_test_filtered']\n",
    "label_test_filtered = data['label_test_filtered']"
   ]
  },
  {
   "cell_type": "code",
   "execution_count": 64,
   "metadata": {},
   "outputs": [
    {
     "data": {
      "text/plain": [
       "(60000, 28, 28)"
      ]
     },
     "execution_count": 64,
     "metadata": {},
     "output_type": "execute_result"
    }
   ],
   "source": [
    "image_test_filtered.shape"
   ]
  },
  {
   "cell_type": "code",
   "execution_count": null,
   "metadata": {},
   "outputs": [],
   "source": []
  }
 ],
 "metadata": {
  "kernelspec": {
   "display_name": "Python 3",
   "language": "python",
   "name": "python3"
  },
  "language_info": {
   "codemirror_mode": {
    "name": "ipython",
    "version": 3
   },
   "file_extension": ".py",
   "mimetype": "text/x-python",
   "name": "python",
   "nbconvert_exporter": "python",
   "pygments_lexer": "ipython3",
   "version": "3.8.3"
  }
 },
 "nbformat": 4,
 "nbformat_minor": 4
}
