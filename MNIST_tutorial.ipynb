{
 "cells": [
  {
   "cell_type": "code",
   "execution_count": 1,
   "metadata": {},
   "outputs": [],
   "source": [
    "import nengo\n",
    "import numpy as np\n",
    "from numpy import random\n",
    "import matplotlib.pyplot as plt\n",
    "import matplotlib.cm as cm\n",
    "# import tensorflow as tf\n",
    "import os\n",
    "from nengo.dists import Choice\n",
    "from datetime import datetime\n",
    "# from nengo_extras.data import load_mnist\n",
    "import pickle\n",
    "from nengo.utils.matplotlib import rasterplot\n",
    "\n",
    "import time\n",
    "\n",
    "from InputData import PresentInputWithPause\n",
    "\n",
    "# from nengo_extras.graphviz import net_diagram\n",
    "\n",
    "from nengo.neurons import LIFRate\n",
    "\n",
    "from nengo.params import Parameter, NumberParam, FrozenObject\n",
    "from nengo.dists import Choice, Distribution, get_samples, Uniform\n",
    "\n",
    "from nengo.utils.numpy import clip, is_array_like\n",
    "from utilis import *\n",
    "import keras\n",
    "\n",
    "from args_mnist import args as my_args\n",
    "import itertools\n",
    "import random\n",
    "import logging"
   ]
  },
  {
   "cell_type": "code",
   "execution_count": 10,
   "metadata": {},
   "outputs": [],
   "source": [
    "(image_train, label_train), (image_test, label_test) = (keras.datasets.mnist.load_data())"
   ]
  },
  {
   "cell_type": "code",
   "execution_count": 11,
   "metadata": {},
   "outputs": [],
   "source": [
    "input_nbr = 10"
   ]
  },
  {
   "cell_type": "code",
   "execution_count": 13,
   "metadata": {},
   "outputs": [],
   "source": [
    "image_train_filtered = []\n",
    "label_train_filtered = []\n",
    "for i in range(0,input_nbr):\n",
    "      \n",
    "    image_train_filtered.append(image_train[i])\n",
    "    label_train_filtered.append(label_train[i])\n",
    "\n",
    "image_train_filtered = np.array(image_train_filtered)\n",
    "label_train_filtered = np.array(label_train_filtered)\n",
    "\n",
    "image_train_filtered = image_train_filtered/255"
   ]
  },
  {
   "cell_type": "code",
   "execution_count": 26,
   "metadata": {},
   "outputs": [],
   "source": [
    "input_neurons_args = {\n",
    "        \"n_neurons\":784,\n",
    "        \"dimensions\":1,\n",
    "        \"label\":\"Input layer\",\n",
    "        \"encoders\":nengo.dists.Choice([[1]]),\n",
    "        # \"max_rates\":nengo.dists.Uniform(22,22),\n",
    "        # \"intercepts\":nengo.dists.Uniform(0,0),\n",
    "        \"gain\":nengo.dists.Choice([2]),\n",
    "        \"bias\":nengo.dists.Choice([0.6]),\n",
    "        \"neuron_type\":MyLIF_in(tau_rc=0.1,min_voltage=-1, amplitude=1,tau_ref=0.002)\n",
    "        # \"neuron_type\":nengo.neurons.SpikingRectifiedLinear()#SpikingRelu neuron. \n",
    "}\n",
    "\n",
    "#Layer 1 parameters\n",
    "layer_1_neurons_args = {\n",
    "        \"n_neurons\":10,\n",
    "        \"dimensions\":1,\n",
    "        \"label\":\"Layer 1\",\n",
    "        \"encoders\":nengo.dists.Choice([[1]]),\n",
    "        \"gain\":nengo.dists.Choice([2]),\n",
    "        \"bias\":nengo.dists.Choice([0]),\n",
    "        # \"intercepts\":nengo.dists.Choice([0]),\n",
    "        # \"max_rates\":nengo.dists.Choice([args.rate_out,args.rate_out]),\n",
    "        # \"noise\":nengo.processes.WhiteNoise(dist=nengo.dists.Gaussian(0, 0.5), seed=1), \n",
    "        # \"neuron_type\":nengo.neurons.LIF(tau_rc=args.tau_out, min_voltage=0)\n",
    "        # \"neuron_type\":MyLIF_out(tau_rc=args.tau_out, min_voltage=-1)\n",
    "        \"neuron_type\":STDPLIF(tau_rc=0.1, min_voltage=-1, spiking_threshold=1, inhibition_time=2,tau_ref=0.002)\n",
    "}\n",
    "presentation_time = 0.35\n",
    "pause_time = 0\n",
    "\n",
    "\n",
    "learning_args = {\n",
    "        \"lr\": 1,\n",
    "        \"winit_min\":0,\n",
    "        \"winit_max\":1,\n",
    "        \"vprog\":0, \n",
    "        \"vthp\":0.5,\n",
    "        \"vthn\":0.5,\n",
    "        \"vprog_increment\":0,\n",
    "        \"voltage_clip_max\":1.8,\n",
    "        \"voltage_clip_min\":-1.8,\n",
    "        \"Vapp_multiplier\":1,\n",
    "}"
   ]
  },
  {
   "cell_type": "code",
   "execution_count": 27,
   "metadata": {},
   "outputs": [
    {
     "data": {
      "application/vdom.v1+json": {
       "attributes": {},
       "tagName": "div"
      },
      "text/html": [
       "\n",
       "                <script>\n",
       "                    if (Jupyter.version.split(\".\")[0] < 5) {\n",
       "                        var pb = document.getElementById(\"fd2ae7d7-2f29-4981-8c00-50f18a75a145\");\n",
       "                        var text = document.createTextNode(\n",
       "                            \"HMTL progress bar requires Jupyter Notebook >= \" +\n",
       "                            \"5.0 or Jupyter Lab. Alternatively, you can use \" +\n",
       "                            \"TerminalProgressBar().\");\n",
       "                        pb.parentNode.insertBefore(text, pb);\n",
       "                    }\n",
       "                </script>\n",
       "                <div id=\"fd2ae7d7-2f29-4981-8c00-50f18a75a145\" style=\"\n",
       "                    width: 100%;\n",
       "                    border: 1px solid #cfcfcf;\n",
       "                    border-radius: 4px;\n",
       "                    text-align: center;\n",
       "                    position: relative;\">\n",
       "                  <div class=\"pb-text\" style=\"\n",
       "                      position: absolute;\n",
       "                      width: 100%;\">\n",
       "                    0%\n",
       "                  </div>\n",
       "                  <div class=\"pb-fill\" style=\"\n",
       "                      background-color: #bdd2e6;\n",
       "                      width: 0%;\">\n",
       "                    <style type=\"text/css\" scoped=\"scoped\">\n",
       "                        @keyframes pb-fill-anim {\n",
       "                            0% { background-position: 0 0; }\n",
       "                            100% { background-position: 100px 0; }\n",
       "                        }\n",
       "                    </style>\n",
       "                    &nbsp;\n",
       "                  </div>\n",
       "                </div>"
      ],
      "text/plain": [
       "HtmlProgressBar cannot be displayed. Please use the TerminalProgressBar. It can be enabled with `nengo.rc['progress']['progress_bar'] = 'nengo.utils.progress.TerminalProgressBar'`."
      ]
     },
     "metadata": {},
     "output_type": "display_data"
    },
    {
     "data": {
      "application/vdom.v1+json": {
       "attributes": {
        "id": "c69eef74-bb12-4482-9f0d-ce4b91b89ff7",
        "style": {
         "border": "1px solid #cfcfcf",
         "borderRadius": "4px",
         "boxSizing": "border-box",
         "position": "relative",
         "textAlign": "center",
         "width": "100%"
        }
       },
       "children": [
        {
         "attributes": {
          "class": "pb-text",
          "style": {
           "position": "absolute",
           "width": "100%"
          }
         },
         "children": [
          "Build finished in 0:00:01."
         ],
         "tagName": "div"
        },
        {
         "attributes": {
          "class": "pb-fill",
          "style": {
           "animation": "none",
           "backgroundColor": "#bdd2e6",
           "backgroundImage": "none",
           "backgroundSize": "100px 100%",
           "width": "100%"
          }
         },
         "children": [
          {
           "attributes": {
            "scoped": "scoped",
            "type": "text/css"
           },
           "children": [
            "\n                        @keyframes pb-fill-anim {\n                            0% { background-position: 0 0; }\n                            100% { background-position: 100px 0; }\n                        }}"
           ],
           "tagName": "style"
          },
          " "
         ],
         "tagName": "div"
        }
       ],
       "tagName": "div"
      },
      "text/html": [
       "<script>\n",
       "              (function () {\n",
       "                  var root = document.getElementById('fd2ae7d7-2f29-4981-8c00-50f18a75a145');\n",
       "                  var text = root.getElementsByClassName('pb-text')[0];\n",
       "                  var fill = root.getElementsByClassName('pb-fill')[0];\n",
       "\n",
       "                  text.innerHTML = 'Build finished in 0:00:01.';\n",
       "                  \n",
       "            fill.style.width = '100%';\n",
       "            fill.style.animation = 'pb-fill-anim 2s linear infinite';\n",
       "            fill.style.backgroundSize = '100px 100%';\n",
       "            fill.style.backgroundImage = 'repeating-linear-gradient(' +\n",
       "                '90deg, #bdd2e6, #edf2f8 40%, #bdd2e6 80%, #bdd2e6)';\n",
       "        \n",
       "                  \n",
       "                fill.style.animation = 'none';\n",
       "                fill.style.backgroundImage = 'none';\n",
       "            \n",
       "              })();\n",
       "        </script>"
      ]
     },
     "metadata": {},
     "output_type": "display_data"
    },
    {
     "data": {
      "application/vdom.v1+json": {
       "attributes": {},
       "tagName": "div"
      },
      "text/html": [
       "\n",
       "                <script>\n",
       "                    if (Jupyter.version.split(\".\")[0] < 5) {\n",
       "                        var pb = document.getElementById(\"2e8cb594-026c-43a7-9e27-7ed3df6f5853\");\n",
       "                        var text = document.createTextNode(\n",
       "                            \"HMTL progress bar requires Jupyter Notebook >= \" +\n",
       "                            \"5.0 or Jupyter Lab. Alternatively, you can use \" +\n",
       "                            \"TerminalProgressBar().\");\n",
       "                        pb.parentNode.insertBefore(text, pb);\n",
       "                    }\n",
       "                </script>\n",
       "                <div id=\"2e8cb594-026c-43a7-9e27-7ed3df6f5853\" style=\"\n",
       "                    width: 100%;\n",
       "                    border: 1px solid #cfcfcf;\n",
       "                    border-radius: 4px;\n",
       "                    text-align: center;\n",
       "                    position: relative;\">\n",
       "                  <div class=\"pb-text\" style=\"\n",
       "                      position: absolute;\n",
       "                      width: 100%;\">\n",
       "                    0%\n",
       "                  </div>\n",
       "                  <div class=\"pb-fill\" style=\"\n",
       "                      background-color: #bdd2e6;\n",
       "                      width: 0%;\">\n",
       "                    <style type=\"text/css\" scoped=\"scoped\">\n",
       "                        @keyframes pb-fill-anim {\n",
       "                            0% { background-position: 0 0; }\n",
       "                            100% { background-position: 100px 0; }\n",
       "                        }\n",
       "                    </style>\n",
       "                    &nbsp;\n",
       "                  </div>\n",
       "                </div>"
      ],
      "text/plain": [
       "HtmlProgressBar cannot be displayed. Please use the TerminalProgressBar. It can be enabled with `nengo.rc['progress']['progress_bar'] = 'nengo.utils.progress.TerminalProgressBar'`."
      ]
     },
     "metadata": {},
     "output_type": "display_data"
    },
    {
     "data": {
      "application/vdom.v1+json": {
       "attributes": {
        "id": "41b526e2-0663-4227-bfe8-53c560bf71d5",
        "style": {
         "border": "1px solid #cfcfcf",
         "borderRadius": "4px",
         "boxSizing": "border-box",
         "position": "relative",
         "textAlign": "center",
         "width": "100%"
        }
       },
       "children": [
        {
         "attributes": {
          "class": "pb-text",
          "style": {
           "position": "absolute",
           "width": "100%"
          }
         },
         "children": [
          "Simulation finished in 0:00:25."
         ],
         "tagName": "div"
        },
        {
         "attributes": {
          "class": "pb-fill",
          "style": {
           "animation": "none",
           "backgroundColor": "#bdd2e6",
           "backgroundImage": "none",
           "transition": "width 0.1s linear",
           "width": "100%"
          }
         },
         "children": [
          {
           "attributes": {
            "scoped": "scoped",
            "type": "text/css"
           },
           "children": [
            "\n                        @keyframes pb-fill-anim {\n                            0% { background-position: 0 0; }\n                            100% { background-position: 100px 0; }\n                        }}"
           ],
           "tagName": "style"
          },
          " "
         ],
         "tagName": "div"
        }
       ],
       "tagName": "div"
      },
      "text/html": [
       "<script>\n",
       "              (function () {\n",
       "                  var root = document.getElementById('2e8cb594-026c-43a7-9e27-7ed3df6f5853');\n",
       "                  var text = root.getElementsByClassName('pb-text')[0];\n",
       "                  var fill = root.getElementsByClassName('pb-fill')[0];\n",
       "\n",
       "                  text.innerHTML = 'Simulation finished in 0:00:25.';\n",
       "                  \n",
       "            if (100.0 > 0.) {\n",
       "                fill.style.transition = 'width 0.1s linear';\n",
       "            } else {\n",
       "                fill.style.transition = 'none';\n",
       "            }\n",
       "\n",
       "            fill.style.width = '100.0%';\n",
       "            fill.style.animation = 'none';\n",
       "            fill.style.backgroundImage = 'none'\n",
       "        \n",
       "                  \n",
       "                fill.style.animation = 'none';\n",
       "                fill.style.backgroundImage = 'none';\n",
       "            \n",
       "              })();\n",
       "        </script>"
      ]
     },
     "metadata": {},
     "output_type": "display_data"
    }
   ],
   "source": [
    "model = nengo.Network(\"My network\", seed = 1)\n",
    "    #############################\n",
    "    # Model construction\n",
    "    #############################\n",
    "with model:\n",
    "    # picture = nengo.Node(PresentInputWithPause(images, presentation_time, pause_time,0))\n",
    "    picture = nengo.Node(nengo.processes.PresentInput(image_train_filtered, presentation_time=presentation_time))\n",
    "    true_label = nengo.Node(nengo.processes.PresentInput(label_train_filtered, presentation_time=presentation_time))\n",
    "    # true_label = nengo.Node(PresentInputWithPause(labels, presentation_time, pause_time,-1))\n",
    "\n",
    "    # input layer  \n",
    "    input_layer = nengo.Ensemble(**input_neurons_args)\n",
    "    input_conn = nengo.Connection(picture,input_layer.neurons,synapse=None)\n",
    "\n",
    "    #first layer\n",
    "    layer1 = nengo.Ensemble(**layer_1_neurons_args)\n",
    "\n",
    "    #Weights between input layer and layer 1\n",
    "    w = nengo.Node(CustomRule_post_v2_tio2(**learning_args), size_in=784, size_out=10)\n",
    "    nengo.Connection(input_layer.neurons, w, synapse=None)\n",
    "#         nengo.Connection(w, layer1.neurons, synapse=args.synapse_layer_1)\n",
    "    # nengo.Connection(w, layer1.neurons,transform=g_max, synapse=None)\n",
    "    # init_weights = np.random.uniform(0, 1, (n_neurons, n_in))\n",
    "    # conn1 = nengo.Connection(input_layer.neurons,layer1.neurons,learning_rule_type=VLR(learning_rate=args.lr,vprog=args.vprog, vthp=args.vthp,vthn=args.vthn),transform=init_weights)\n",
    "\n",
    "    #Lateral inhibition\n",
    "    # inhib = nengo.Connection(layer1.neurons,layer1.neurons,**lateral_inhib_args) \n",
    "\n",
    "    #Probes\n",
    "    # p_true_label = nengo.Probe(true_label, sample_every=probe_sample_rate)\n",
    "    p_input_layer = nengo.Probe(input_layer.neurons)\n",
    "    p_layer_1 = nengo.Probe(layer1.neurons)\n",
    "    # weights_probe = nengo.Probe(conn1,\"weights\",sample_every=probe_sample_rate)\n",
    "\n",
    "#         weights = w.output.history\n",
    "\n",
    "        \n",
    "\n",
    "    # with nengo_ocl.Simulator(model) as sim :   \n",
    "with nengo.Simulator(model, dt=0.001, optimize=True) as sim:\n",
    "\n",
    "        \n",
    "    w.output.set_signal_vmem(sim.signals[sim.model.sig[input_layer.neurons][\"voltage\"]])\n",
    "    w.output.set_signal_out(sim.signals[sim.model.sig[layer1.neurons][\"out\"]])\n",
    "\n",
    "\n",
    "    sim.run((presentation_time+pause_time) * label_train_filtered.shape[0])"
   ]
  },
  {
   "cell_type": "code",
   "execution_count": null,
   "metadata": {},
   "outputs": [],
   "source": []
  }
 ],
 "metadata": {
  "kernelspec": {
   "display_name": "Python 3",
   "language": "python",
   "name": "python3"
  },
  "language_info": {
   "codemirror_mode": {
    "name": "ipython",
    "version": 3
   },
   "file_extension": ".py",
   "mimetype": "text/x-python",
   "name": "python",
   "nbconvert_exporter": "python",
   "pygments_lexer": "ipython3",
   "version": "3.8.3"
  }
 },
 "nbformat": 4,
 "nbformat_minor": 4
}
